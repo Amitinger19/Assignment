{
  "nbformat": 4,
  "nbformat_minor": 0,
  "metadata": {
    "colab": {
      "name": "Assignment_2.ipynb",
      "provenance": [],
      "toc_visible": true
    },
    "kernelspec": {
      "name": "python3",
      "display_name": "Python 3"
    }
  },
  "cells": [
    {
      "cell_type": "markdown",
      "metadata": {
        "id": "BWREkstNfgPN",
        "colab_type": "text"
      },
      "source": [
        "## Q.1: print the pattern"
      ]
    },
    {
      "cell_type": "code",
      "metadata": {
        "id": "e1tWqd6jfkn4",
        "colab_type": "code",
        "colab": {
          "base_uri": "https://localhost:8080/",
          "height": 319
        },
        "outputId": "a32f1177-a351-4f72-b71e-13265093e4cd"
      },
      "source": [
        "\n",
        "for i in range(5):\n",
        "  while i>=0:\n",
        "    print('*',end=' ')\n",
        "    i=i-1\n",
        "  print('\\n')\n",
        "for i in [4,3,2,1]:\n",
        "  while i>0:\n",
        "    print('*',end=' ') \n",
        "    i=i-1\n",
        "  print('\\n')  "
      ],
      "execution_count": 6,
      "outputs": [
        {
          "output_type": "stream",
          "text": [
            "* \n",
            "\n",
            "* * \n",
            "\n",
            "* * * \n",
            "\n",
            "* * * * \n",
            "\n",
            "* * * * * \n",
            "\n",
            "* * * * \n",
            "\n",
            "* * * \n",
            "\n",
            "* * \n",
            "\n",
            "* \n",
            "\n"
          ],
          "name": "stdout"
        }
      ]
    },
    {
      "cell_type": "markdown",
      "metadata": {
        "id": "31xGApdfkOkD",
        "colab_type": "text"
      },
      "source": [
        "Q.2:Write a Python program to reverse a word after accepting the input from the user."
      ]
    },
    {
      "cell_type": "code",
      "metadata": {
        "id": "7IysOk7JkToi",
        "colab_type": "code",
        "colab": {
          "base_uri": "https://localhost:8080/",
          "height": 50
        },
        "outputId": "f5102491-c2c3-421f-aced-7299569cc8e3"
      },
      "source": [
        "word=input('Enter any word: ')\n",
        "rev_word=word[::-1]\n",
        "print('The reversed word is: %s'%rev_word)"
      ],
      "execution_count": 10,
      "outputs": [
        {
          "output_type": "stream",
          "text": [
            "Enter any word: Surbhi\n",
            "The reversed word is: ihbruS\n"
          ],
          "name": "stdout"
        }
      ]
    }
  ]
}